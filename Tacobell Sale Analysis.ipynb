{
 "cells": [
  {
   "cell_type": "code",
   "execution_count": 9,
   "id": "bc15ebac",
   "metadata": {},
   "outputs": [],
   "source": [
    "import pandas as pd\n",
    "import numpy as np\n",
    "import matplotlib.pyplot as plt\n",
    "import seaborn as sns"
   ]
  },
  {
   "cell_type": "code",
   "execution_count": 10,
   "id": "8a767927",
   "metadata": {},
   "outputs": [],
   "source": [
    "df=pd.read_csv(r\"C:\\Users\\ideap\\OneDrive\\Desktop\\2024\\Machine End To End And EDA\\Data\\chipotle.csv\",delimiter='\\t')"
   ]
  },
  {
   "cell_type": "code",
   "execution_count": 11,
   "id": "e4174f95",
   "metadata": {},
   "outputs": [
    {
     "data": {
      "text/html": [
       "<div>\n",
       "<style scoped>\n",
       "    .dataframe tbody tr th:only-of-type {\n",
       "        vertical-align: middle;\n",
       "    }\n",
       "\n",
       "    .dataframe tbody tr th {\n",
       "        vertical-align: top;\n",
       "    }\n",
       "\n",
       "    .dataframe thead th {\n",
       "        text-align: right;\n",
       "    }\n",
       "</style>\n",
       "<table border=\"1\" class=\"dataframe\">\n",
       "  <thead>\n",
       "    <tr style=\"text-align: right;\">\n",
       "      <th></th>\n",
       "      <th>order_id</th>\n",
       "      <th>quantity</th>\n",
       "      <th>item_name</th>\n",
       "      <th>choice_description</th>\n",
       "      <th>item_price</th>\n",
       "    </tr>\n",
       "  </thead>\n",
       "  <tbody>\n",
       "    <tr>\n",
       "      <th>0</th>\n",
       "      <td>1</td>\n",
       "      <td>1</td>\n",
       "      <td>Chips and Fresh Tomato Salsa</td>\n",
       "      <td>NaN</td>\n",
       "      <td>$2.39</td>\n",
       "    </tr>\n",
       "    <tr>\n",
       "      <th>1</th>\n",
       "      <td>1</td>\n",
       "      <td>1</td>\n",
       "      <td>Izze</td>\n",
       "      <td>[Clementine]</td>\n",
       "      <td>$3.39</td>\n",
       "    </tr>\n",
       "    <tr>\n",
       "      <th>2</th>\n",
       "      <td>1</td>\n",
       "      <td>1</td>\n",
       "      <td>Nantucket Nectar</td>\n",
       "      <td>[Apple]</td>\n",
       "      <td>$3.39</td>\n",
       "    </tr>\n",
       "    <tr>\n",
       "      <th>3</th>\n",
       "      <td>1</td>\n",
       "      <td>1</td>\n",
       "      <td>Chips and Tomatillo-Green Chili Salsa</td>\n",
       "      <td>NaN</td>\n",
       "      <td>$2.39</td>\n",
       "    </tr>\n",
       "    <tr>\n",
       "      <th>4</th>\n",
       "      <td>2</td>\n",
       "      <td>2</td>\n",
       "      <td>Chicken Bowl</td>\n",
       "      <td>[Tomatillo-Red Chili Salsa (Hot), [Black Beans...</td>\n",
       "      <td>$16.98</td>\n",
       "    </tr>\n",
       "    <tr>\n",
       "      <th>...</th>\n",
       "      <td>...</td>\n",
       "      <td>...</td>\n",
       "      <td>...</td>\n",
       "      <td>...</td>\n",
       "      <td>...</td>\n",
       "    </tr>\n",
       "    <tr>\n",
       "      <th>4617</th>\n",
       "      <td>1833</td>\n",
       "      <td>1</td>\n",
       "      <td>Steak Burrito</td>\n",
       "      <td>[Fresh Tomato Salsa, [Rice, Black Beans, Sour ...</td>\n",
       "      <td>$11.75</td>\n",
       "    </tr>\n",
       "    <tr>\n",
       "      <th>4618</th>\n",
       "      <td>1833</td>\n",
       "      <td>1</td>\n",
       "      <td>Steak Burrito</td>\n",
       "      <td>[Fresh Tomato Salsa, [Rice, Sour Cream, Cheese...</td>\n",
       "      <td>$11.75</td>\n",
       "    </tr>\n",
       "    <tr>\n",
       "      <th>4619</th>\n",
       "      <td>1834</td>\n",
       "      <td>1</td>\n",
       "      <td>Chicken Salad Bowl</td>\n",
       "      <td>[Fresh Tomato Salsa, [Fajita Vegetables, Pinto...</td>\n",
       "      <td>$11.25</td>\n",
       "    </tr>\n",
       "    <tr>\n",
       "      <th>4620</th>\n",
       "      <td>1834</td>\n",
       "      <td>1</td>\n",
       "      <td>Chicken Salad Bowl</td>\n",
       "      <td>[Fresh Tomato Salsa, [Fajita Vegetables, Lettu...</td>\n",
       "      <td>$8.75</td>\n",
       "    </tr>\n",
       "    <tr>\n",
       "      <th>4621</th>\n",
       "      <td>1834</td>\n",
       "      <td>1</td>\n",
       "      <td>Chicken Salad Bowl</td>\n",
       "      <td>[Fresh Tomato Salsa, [Fajita Vegetables, Pinto...</td>\n",
       "      <td>$8.75</td>\n",
       "    </tr>\n",
       "  </tbody>\n",
       "</table>\n",
       "<p>4622 rows × 5 columns</p>\n",
       "</div>"
      ],
      "text/plain": [
       "      order_id  quantity                              item_name  \\\n",
       "0            1         1           Chips and Fresh Tomato Salsa   \n",
       "1            1         1                                   Izze   \n",
       "2            1         1                       Nantucket Nectar   \n",
       "3            1         1  Chips and Tomatillo-Green Chili Salsa   \n",
       "4            2         2                           Chicken Bowl   \n",
       "...        ...       ...                                    ...   \n",
       "4617      1833         1                          Steak Burrito   \n",
       "4618      1833         1                          Steak Burrito   \n",
       "4619      1834         1                     Chicken Salad Bowl   \n",
       "4620      1834         1                     Chicken Salad Bowl   \n",
       "4621      1834         1                     Chicken Salad Bowl   \n",
       "\n",
       "                                     choice_description item_price  \n",
       "0                                                   NaN     $2.39   \n",
       "1                                          [Clementine]     $3.39   \n",
       "2                                               [Apple]     $3.39   \n",
       "3                                                   NaN     $2.39   \n",
       "4     [Tomatillo-Red Chili Salsa (Hot), [Black Beans...    $16.98   \n",
       "...                                                 ...        ...  \n",
       "4617  [Fresh Tomato Salsa, [Rice, Black Beans, Sour ...    $11.75   \n",
       "4618  [Fresh Tomato Salsa, [Rice, Sour Cream, Cheese...    $11.75   \n",
       "4619  [Fresh Tomato Salsa, [Fajita Vegetables, Pinto...    $11.25   \n",
       "4620  [Fresh Tomato Salsa, [Fajita Vegetables, Lettu...     $8.75   \n",
       "4621  [Fresh Tomato Salsa, [Fajita Vegetables, Pinto...     $8.75   \n",
       "\n",
       "[4622 rows x 5 columns]"
      ]
     },
     "execution_count": 11,
     "metadata": {},
     "output_type": "execute_result"
    }
   ],
   "source": [
    "df"
   ]
  },
  {
   "cell_type": "code",
   "execution_count": 12,
   "id": "d775c92f",
   "metadata": {},
   "outputs": [
    {
     "data": {
      "text/plain": [
       "(4622, 5)"
      ]
     },
     "execution_count": 12,
     "metadata": {},
     "output_type": "execute_result"
    }
   ],
   "source": [
    "df.shape"
   ]
  },
  {
   "cell_type": "code",
   "execution_count": 13,
   "id": "c1995c82",
   "metadata": {},
   "outputs": [
    {
     "data": {
      "text/plain": [
       "order_id                 0\n",
       "quantity                 0\n",
       "item_name                0\n",
       "choice_description    1246\n",
       "item_price               0\n",
       "dtype: int64"
      ]
     },
     "execution_count": 13,
     "metadata": {},
     "output_type": "execute_result"
    }
   ],
   "source": [
    "df.isnull().sum()"
   ]
  },
  {
   "cell_type": "markdown",
   "id": "a29343bb",
   "metadata": {},
   "source": [
    "### Data Preprocessing\n",
    "* Convert 'item_price' from a string to a float and handle any missing values."
   ]
  },
  {
   "cell_type": "code",
   "execution_count": 15,
   "id": "2b02f22a",
   "metadata": {},
   "outputs": [
    {
     "name": "stderr",
     "output_type": "stream",
     "text": [
      "C:\\Users\\ideap\\AppData\\Local\\Temp\\ipykernel_11056\\2990090499.py:1: FutureWarning: The default value of regex will change from True to False in a future version. In addition, single character regular expressions will *not* be treated as literal strings when regex=True.\n",
      "  df['item_price']=df['item_price'].str.replace('$','').astype(float)\n"
     ]
    }
   ],
   "source": [
    "df['item_price']=df['item_price'].str.replace('$','').astype(float)"
   ]
  },
  {
   "cell_type": "code",
   "execution_count": 20,
   "id": "11a92aca",
   "metadata": {},
   "outputs": [],
   "source": [
    "df['choice_description'].fillna('none',inplace=True)"
   ]
  },
  {
   "cell_type": "code",
   "execution_count": 28,
   "id": "75bfe069",
   "metadata": {},
   "outputs": [
    {
     "data": {
      "text/plain": [
       "Chicken Bowl                             726\n",
       "Chicken Burrito                          553\n",
       "Chips and Guacamole                      479\n",
       "Steak Burrito                            368\n",
       "Canned Soft Drink                        301\n",
       "Steak Bowl                               211\n",
       "Chips                                    211\n",
       "Bottled Water                            162\n",
       "Chicken Soft Tacos                       115\n",
       "Chips and Fresh Tomato Salsa             110\n",
       "Chicken Salad Bowl                       110\n",
       "Canned Soda                              104\n",
       "Side of Chips                            101\n",
       "Veggie Burrito                            95\n",
       "Barbacoa Burrito                          91\n",
       "Veggie Bowl                               85\n",
       "Carnitas Bowl                             68\n",
       "Barbacoa Bowl                             66\n",
       "Carnitas Burrito                          59\n",
       "Steak Soft Tacos                          55\n",
       "6 Pack Soft Drink                         54\n",
       "Chips and Tomatillo Red Chili Salsa       48\n",
       "Chicken Crispy Tacos                      47\n",
       "Chips and Tomatillo Green Chili Salsa     43\n",
       "Carnitas Soft Tacos                       40\n",
       "Steak Crispy Tacos                        35\n",
       "Chips and Tomatillo-Green Chili Salsa     31\n",
       "Steak Salad Bowl                          29\n",
       "Nantucket Nectar                          27\n",
       "Barbacoa Soft Tacos                       25\n",
       "Chips and Roasted Chili Corn Salsa        22\n",
       "Izze                                      20\n",
       "Chips and Tomatillo-Red Chili Salsa       20\n",
       "Veggie Salad Bowl                         18\n",
       "Chips and Roasted Chili-Corn Salsa        18\n",
       "Barbacoa Crispy Tacos                     11\n",
       "Barbacoa Salad Bowl                       10\n",
       "Chicken Salad                              9\n",
       "Veggie Soft Tacos                          7\n",
       "Carnitas Crispy Tacos                      7\n",
       "Veggie Salad                               6\n",
       "Carnitas Salad Bowl                        6\n",
       "Burrito                                    6\n",
       "Steak Salad                                4\n",
       "Crispy Tacos                               2\n",
       "Salad                                      2\n",
       "Bowl                                       2\n",
       "Chips and Mild Fresh Tomato Salsa          1\n",
       "Veggie Crispy Tacos                        1\n",
       "Carnitas Salad                             1\n",
       "Name: item_name, dtype: int64"
      ]
     },
     "execution_count": 28,
     "metadata": {},
     "output_type": "execute_result"
    }
   ],
   "source": [
    "df['item_name'].value_counts()"
   ]
  },
  {
   "cell_type": "code",
   "execution_count": 29,
   "id": "881aa447",
   "metadata": {},
   "outputs": [
    {
     "data": {
      "text/html": [
       "<div>\n",
       "<style scoped>\n",
       "    .dataframe tbody tr th:only-of-type {\n",
       "        vertical-align: middle;\n",
       "    }\n",
       "\n",
       "    .dataframe tbody tr th {\n",
       "        vertical-align: top;\n",
       "    }\n",
       "\n",
       "    .dataframe thead th {\n",
       "        text-align: right;\n",
       "    }\n",
       "</style>\n",
       "<table border=\"1\" class=\"dataframe\">\n",
       "  <thead>\n",
       "    <tr style=\"text-align: right;\">\n",
       "      <th></th>\n",
       "      <th>order_id</th>\n",
       "      <th>quantity</th>\n",
       "      <th>item_name</th>\n",
       "      <th>choice_description</th>\n",
       "      <th>item_price</th>\n",
       "    </tr>\n",
       "  </thead>\n",
       "  <tbody>\n",
       "    <tr>\n",
       "      <th>0</th>\n",
       "      <td>1</td>\n",
       "      <td>1</td>\n",
       "      <td>Chips and Fresh Tomato Salsa</td>\n",
       "      <td>none</td>\n",
       "      <td>2.39</td>\n",
       "    </tr>\n",
       "    <tr>\n",
       "      <th>1</th>\n",
       "      <td>1</td>\n",
       "      <td>1</td>\n",
       "      <td>Izze</td>\n",
       "      <td>[Clementine]</td>\n",
       "      <td>3.39</td>\n",
       "    </tr>\n",
       "    <tr>\n",
       "      <th>2</th>\n",
       "      <td>1</td>\n",
       "      <td>1</td>\n",
       "      <td>Nantucket Nectar</td>\n",
       "      <td>[Apple]</td>\n",
       "      <td>3.39</td>\n",
       "    </tr>\n",
       "    <tr>\n",
       "      <th>3</th>\n",
       "      <td>1</td>\n",
       "      <td>1</td>\n",
       "      <td>Chips and Tomatillo-Green Chili Salsa</td>\n",
       "      <td>none</td>\n",
       "      <td>2.39</td>\n",
       "    </tr>\n",
       "    <tr>\n",
       "      <th>4</th>\n",
       "      <td>2</td>\n",
       "      <td>2</td>\n",
       "      <td>Chicken Bowl</td>\n",
       "      <td>[Tomatillo-Red Chili Salsa (Hot), [Black Beans...</td>\n",
       "      <td>16.98</td>\n",
       "    </tr>\n",
       "    <tr>\n",
       "      <th>...</th>\n",
       "      <td>...</td>\n",
       "      <td>...</td>\n",
       "      <td>...</td>\n",
       "      <td>...</td>\n",
       "      <td>...</td>\n",
       "    </tr>\n",
       "    <tr>\n",
       "      <th>4617</th>\n",
       "      <td>1833</td>\n",
       "      <td>1</td>\n",
       "      <td>Steak Burrito</td>\n",
       "      <td>[Fresh Tomato Salsa, [Rice, Black Beans, Sour ...</td>\n",
       "      <td>11.75</td>\n",
       "    </tr>\n",
       "    <tr>\n",
       "      <th>4618</th>\n",
       "      <td>1833</td>\n",
       "      <td>1</td>\n",
       "      <td>Steak Burrito</td>\n",
       "      <td>[Fresh Tomato Salsa, [Rice, Sour Cream, Cheese...</td>\n",
       "      <td>11.75</td>\n",
       "    </tr>\n",
       "    <tr>\n",
       "      <th>4619</th>\n",
       "      <td>1834</td>\n",
       "      <td>1</td>\n",
       "      <td>Chicken Salad Bowl</td>\n",
       "      <td>[Fresh Tomato Salsa, [Fajita Vegetables, Pinto...</td>\n",
       "      <td>11.25</td>\n",
       "    </tr>\n",
       "    <tr>\n",
       "      <th>4620</th>\n",
       "      <td>1834</td>\n",
       "      <td>1</td>\n",
       "      <td>Chicken Salad Bowl</td>\n",
       "      <td>[Fresh Tomato Salsa, [Fajita Vegetables, Lettu...</td>\n",
       "      <td>8.75</td>\n",
       "    </tr>\n",
       "    <tr>\n",
       "      <th>4621</th>\n",
       "      <td>1834</td>\n",
       "      <td>1</td>\n",
       "      <td>Chicken Salad Bowl</td>\n",
       "      <td>[Fresh Tomato Salsa, [Fajita Vegetables, Pinto...</td>\n",
       "      <td>8.75</td>\n",
       "    </tr>\n",
       "  </tbody>\n",
       "</table>\n",
       "<p>4622 rows × 5 columns</p>\n",
       "</div>"
      ],
      "text/plain": [
       "      order_id  quantity                              item_name  \\\n",
       "0            1         1           Chips and Fresh Tomato Salsa   \n",
       "1            1         1                                   Izze   \n",
       "2            1         1                       Nantucket Nectar   \n",
       "3            1         1  Chips and Tomatillo-Green Chili Salsa   \n",
       "4            2         2                           Chicken Bowl   \n",
       "...        ...       ...                                    ...   \n",
       "4617      1833         1                          Steak Burrito   \n",
       "4618      1833         1                          Steak Burrito   \n",
       "4619      1834         1                     Chicken Salad Bowl   \n",
       "4620      1834         1                     Chicken Salad Bowl   \n",
       "4621      1834         1                     Chicken Salad Bowl   \n",
       "\n",
       "                                     choice_description  item_price  \n",
       "0                                                  none        2.39  \n",
       "1                                          [Clementine]        3.39  \n",
       "2                                               [Apple]        3.39  \n",
       "3                                                  none        2.39  \n",
       "4     [Tomatillo-Red Chili Salsa (Hot), [Black Beans...       16.98  \n",
       "...                                                 ...         ...  \n",
       "4617  [Fresh Tomato Salsa, [Rice, Black Beans, Sour ...       11.75  \n",
       "4618  [Fresh Tomato Salsa, [Rice, Sour Cream, Cheese...       11.75  \n",
       "4619  [Fresh Tomato Salsa, [Fajita Vegetables, Pinto...       11.25  \n",
       "4620  [Fresh Tomato Salsa, [Fajita Vegetables, Lettu...        8.75  \n",
       "4621  [Fresh Tomato Salsa, [Fajita Vegetables, Pinto...        8.75  \n",
       "\n",
       "[4622 rows x 5 columns]"
      ]
     },
     "execution_count": 29,
     "metadata": {},
     "output_type": "execute_result"
    }
   ],
   "source": [
    "df"
   ]
  },
  {
   "cell_type": "markdown",
   "id": "149ce0c4",
   "metadata": {},
   "source": [
    "### Sales Analysis\n",
    "* Calculate the total order count and total sales for each item."
   ]
  },
  {
   "cell_type": "code",
   "execution_count": 31,
   "id": "d06c7a14",
   "metadata": {},
   "outputs": [
    {
     "data": {
      "text/html": [
       "<div>\n",
       "<style scoped>\n",
       "    .dataframe tbody tr th:only-of-type {\n",
       "        vertical-align: middle;\n",
       "    }\n",
       "\n",
       "    .dataframe tbody tr th {\n",
       "        vertical-align: top;\n",
       "    }\n",
       "\n",
       "    .dataframe thead th {\n",
       "        text-align: right;\n",
       "    }\n",
       "</style>\n",
       "<table border=\"1\" class=\"dataframe\">\n",
       "  <thead>\n",
       "    <tr style=\"text-align: right;\">\n",
       "      <th></th>\n",
       "      <th>item_name</th>\n",
       "      <th>Total_Orders</th>\n",
       "      <th>Total_Sales</th>\n",
       "    </tr>\n",
       "  </thead>\n",
       "  <tbody>\n",
       "    <tr>\n",
       "      <th>17</th>\n",
       "      <td>Chicken Bowl</td>\n",
       "      <td>761</td>\n",
       "      <td>7342.73</td>\n",
       "    </tr>\n",
       "    <tr>\n",
       "      <th>18</th>\n",
       "      <td>Chicken Burrito</td>\n",
       "      <td>591</td>\n",
       "      <td>5575.82</td>\n",
       "    </tr>\n",
       "    <tr>\n",
       "      <th>39</th>\n",
       "      <td>Steak Burrito</td>\n",
       "      <td>386</td>\n",
       "      <td>3851.43</td>\n",
       "    </tr>\n",
       "    <tr>\n",
       "      <th>38</th>\n",
       "      <td>Steak Bowl</td>\n",
       "      <td>221</td>\n",
       "      <td>2260.19</td>\n",
       "    </tr>\n",
       "    <tr>\n",
       "      <th>25</th>\n",
       "      <td>Chips and Guacamole</td>\n",
       "      <td>506</td>\n",
       "      <td>2201.04</td>\n",
       "    </tr>\n",
       "  </tbody>\n",
       "</table>\n",
       "</div>"
      ],
      "text/plain": [
       "              item_name  Total_Orders  Total_Sales\n",
       "17         Chicken Bowl           761      7342.73\n",
       "18      Chicken Burrito           591      5575.82\n",
       "39        Steak Burrito           386      3851.43\n",
       "38           Steak Bowl           221      2260.19\n",
       "25  Chips and Guacamole           506      2201.04"
      ]
     },
     "execution_count": 31,
     "metadata": {},
     "output_type": "execute_result"
    }
   ],
   "source": [
    "sales_analysis = df.groupby('item_name').agg(\n",
    "    Total_Orders=pd.NamedAgg(column='quantity', aggfunc='sum'),\n",
    "    Total_Sales=pd.NamedAgg(column='item_price', aggfunc='sum')\n",
    ").reset_index().sort_values(by='Total_Sales', ascending=False)\n",
    "sales_analysis.head()"
   ]
  },
  {
   "cell_type": "markdown",
   "id": "54852596",
   "metadata": {},
   "source": [
    "### Customer Preference Analysis"
   ]
  },
  {
   "cell_type": "code",
   "execution_count": 37,
   "id": "778dedb6",
   "metadata": {},
   "outputs": [
    {
     "data": {
      "text/plain": [
       "17           Chicken Bowl\n",
       "18        Chicken Burrito\n",
       "39          Steak Burrito\n",
       "38             Steak Bowl\n",
       "25    Chips and Guacamole\n",
       "Name: item_name, dtype: object"
      ]
     },
     "execution_count": 37,
     "metadata": {},
     "output_type": "execute_result"
    }
   ],
   "source": [
    "popular_item=sales_analysis.head(5)['item_name']\n",
    "popular_item"
   ]
  },
  {
   "cell_type": "code",
   "execution_count": 38,
   "id": "cb74e9cb",
   "metadata": {},
   "outputs": [
    {
     "data": {
      "text/plain": [
       "item_name     choice_description                                                               \n",
       "Chicken Bowl  [Fresh Tomato Salsa, [Fajita Vegetables, Rice]]                                      17\n",
       "              [Fresh Tomato Salsa, [Rice, Black Beans, Cheese, Sour Cream, Guacamole, Lettuce]]    14\n",
       "              [Fresh Tomato Salsa, [Rice, Black Beans, Cheese, Sour Cream, Lettuce]]               14\n",
       "              [Fresh Tomato Salsa, [Rice, Black Beans, Cheese]]                                    13\n",
       "              [Fresh Tomato Salsa, [Rice, Cheese, Lettuce]]                                        13\n",
       "              [Fresh Tomato Salsa, [Rice, Cheese, Sour Cream, Lettuce]]                            13\n",
       "              [Tomatillo Green Chili Salsa, [Rice, Pinto Beans, Sour Cream, Lettuce]]              12\n",
       "              [Fresh Tomato Salsa, [Rice, Black Beans, Cheese, Sour Cream]]                        11\n",
       "              [Fresh Tomato Salsa, [Fajita Vegetables, Rice, Lettuce]]                             10\n",
       "              [Fresh Tomato Salsa, [Rice, Cheese, Sour Cream]]                                     10\n",
       "Name: choice_description, dtype: int64"
      ]
     },
     "execution_count": 38,
     "metadata": {},
     "output_type": "execute_result"
    }
   ],
   "source": [
    "df[df['item_name'].isin(popular_item)].groupby('item_name')['choice_description'].value_counts().head(10)"
   ]
  },
  {
   "cell_type": "markdown",
   "id": "1db1b2a0",
   "metadata": {},
   "source": [
    "### Price Analysis\n",
    "* Understand the relationship between item price and order quantity."
   ]
  },
  {
   "cell_type": "code",
   "execution_count": 39,
   "id": "4d73ac78",
   "metadata": {},
   "outputs": [
    {
     "data": {
      "image/png": "[encoded data removed]",
      "text/plain": [
       "<Figure size 640x480 with 1 Axes>"
      ]
     },
     "metadata": {},
     "output_type": "display_data"
    }
   ],
   "source": [
    "# Analyze the relationship between item price and order quantity\n",
    "plt.scatter(df['item_price'], df['quantity'])\n",
    "plt.xlabel('Item Price')\n",
    "plt.ylabel('Quantity Ordered')\n",
    "plt.title('Price vs Quantity Ordered')\n",
    "plt.show()"
   ]
  },
  {
   "cell_type": "markdown",
   "id": "fc1710d7",
   "metadata": {},
   "source": [
    "### Predicting Order Quantity using Regression Models\n",
    "* Predict the quantity of an item a customer is likely to order based on item features and customer characteristics."
   ]
  },
  {
   "cell_type": "code",
   "execution_count": 48,
   "id": "00b58b73",
   "metadata": {},
   "outputs": [
    {
     "data": {
      "image/png": "[encoded data removed]",
      "text/plain": [
       "<Figure size 640x480 with 1 Axes>"
      ]
     },
     "metadata": {},
     "output_type": "display_data"
    }
   ],
   "source": [
    "from sklearn.linear_model import LinearRegression\n",
    "from sklearn.model_selection import train_test_split\n",
    "import matplotlib.pyplot as plt\n",
    "\n",
    "x=df[['item_price']]\n",
    "y=df['quantity']\n",
    "lin_reg= LinearRegression()\n",
    "lin_reg.fit(x,y)\n",
    "\n",
    "x_train, x_test, y_train, y_test = train_test_split(x,y, test_size=0.2)\n",
    "y_pred=lin_reg.predict(x_test)\n",
    "\n",
    "\n",
    "\n",
    "plt.scatter(x_train, y_train, color='blue', label='Training data')\n",
    "plt.scatter(x_test, y_test, color='red', label='Test data')\n",
    "plt.plot(x_test, y_pred, color='green', label='Linear regression line')\n",
    "plt.xlabel('Item Price')\n",
    "plt.ylabel('Quantity Ordered')\n",
    "plt.title('Item Price vs Quantity Ordered')\n",
    "plt.legend()\n",
    "plt.show()"
   ]
  },
  {
   "cell_type": "markdown",
   "id": "7e88870e",
   "metadata": {},
   "source": [
    "\n",
    "\n",
    "The scatter plot with the linear regression line, showing the relationship between item price and quantity ordered, provides several valuable insights for the company:\n",
    "\n",
    "1. **Understanding Customer Behavior**: The plot reveals how customers' order quantities vary with the price of items. For instance, if most orders cluster around lower-priced items, it might indicate price sensitivity among customers.\n",
    "\n",
    "2. **Pricing Strategy**: By observing the distribution of orders across different price points, the company can assess the effectiveness of its pricing strategy. If higher-priced items have significantly fewer orders, it might suggest the need for pricing adjustments or promotions.\n",
    "\n",
    "3. **Product Portfolio Management**: The visualization can help identify which price ranges are most popular among customers. This information can guide decisions on which items to promote more heavily or which new products to introduce.\n",
    "\n",
    "4. **Demand Forecasting**: Understanding the relationship between price and quantity can assist in predicting future demand for products, aiding in inventory management and supply chain optimization.\n",
    "\n",
    "5. **Marketing and Promotions**: Insights from the plot can inform marketing strategies. For example, if certain price points are more popular, marketing efforts can be tailored to highlight items within these ranges.\n",
    "\n",
    "6. **Revenue Optimization**: By analyzing how changes in prices impact order quantities, the company can make data-driven decisions to optimize revenue. For example, slight increases in prices may not significantly affect the quantity ordered, leading to higher revenue without losing customers.\n",
    "\n",
    "7. **Model Limitations and Business Decisions**: The simplicity of the model and any visible discrepancies between the model's predictions and actual data points highlight the complexity of customer behavior. This recognition can drive further analysis and the development of more sophisticated models.\n",
    "\n",
    "In summary, this analysis helps the company understand the dynamics of customer orders in relation to pricing, providing a foundation for informed decision-making in various business areas, including marketing, pricing strategy, product management, and supply chain operations.\n"
   ]
  },
  {
   "cell_type": "code",
   "execution_count": 50,
   "id": "25e5ab25",
   "metadata": {},
   "outputs": [
    {
     "data": {
      "image/png": "[encoded data removed]",
      "text/plain": [
       "<Figure size 640x480 with 1 Axes>"
      ]
     },
     "metadata": {},
     "output_type": "display_data"
    }
   ],
   "source": [
    "# Using the real Chipotle dataset to perform customer segmentation\n",
    "# We will aggregate data to create a per-order basis dataset that represents total items and total amount spent per order\n",
    "\n",
    "import pandas as pd\n",
    "from sklearn.cluster import KMeans\n",
    "import matplotlib.pyplot as plt\n",
    "\n",
    "# Aggregating data by order_id\n",
    "order_data = df.groupby('order_id').agg(\n",
    "    Total_Items=pd.NamedAgg(column='quantity', aggfunc='sum'),\n",
    "    Total_Spent=pd.NamedAgg(column='item_price', aggfunc='sum')\n",
    ").reset_index()\n",
    "\n",
    "# Applying K-Means clustering on the aggregated order data\n",
    "kmeans = KMeans(n_clusters=3)\n",
    "order_segments = kmeans.fit_predict(order_data[['Total_Items', 'Total_Spent']])\n",
    "\n",
    "# Plotting the customer segments based on orders\n",
    "plt.scatter(order_data['Total_Items'], order_data['Total_Spent'], c=order_segments, cmap='viridis')\n",
    "plt.xlabel('Total Items per Order')\n",
    "plt.ylabel('Total Spent per Order ($)')\n",
    "plt.title('Customer Segments Based on Orders')\n",
    "plt.show()"
   ]
  },
  {
   "cell_type": "markdown",
   "id": "63ae916a",
   "metadata": {},
   "source": [
    "The visual representation shown in the scatter plot depicts customer segmentation based on total items per order and total amount spent per order. Here's what this means for the company:\n",
    "\n",
    "### Clusters Identified by K-Means:\n",
    "- Different colors represent different clusters, which are groups of orders with similar characteristics in terms of item quantity and spending.\n",
    "\n",
    "### Segment Analysis:\n",
    "1. **Purple Cluster (Lower Left)**: Orders in this segment have fewer items and lower total spend. This group might consist of individual customers or small orders.\n",
    "2. **Yellow Cluster (Center Left)**: Orders here have a moderate number of items and spend. This could represent regular meals for small groups or individuals who order more items.\n",
    "3. **Cyan Cluster (Top Right)**: Orders with a higher total spend and more items. These might be large group orders or high spenders.\n",
    "\n",
    "### Business Imp\n",
    "\n",
    "lications and Strategies:\n",
    "- **Targeted Marketing**: The company can create targeted marketing campaigns for each segment. For example, sending discount coupons to the purple cluster to encourage them to spend more, or rewarding the cyan cluster with loyalty points to ensure they keep coming back.\n",
    "- **Menu Optimization**: The company might consider menu adjustments or bundled offers that appeal to each segment, such as value meals for the purple cluster or family deals for the cyan cluster.\n",
    "- **Resource Allocation**: Understanding the distribution of order sizes can help with resource allocation, such as inventory management and staff scheduling, to meet the demand patterns of each segment.\n",
    "- **Customer Experience**: Personalize the customer experience by recognizing the ordering patterns of each segment and tailoring the service accordingly, such as offering quicker checkout for smaller orders or customized catering services for large orders.\n",
    "- **Strategic Expansion**: If a particular segment is highly profitable or growing, the company might focus on expanding services that cater to that segment's needs, such as enhancing the mobile ordering experience for tech-savvy customers in the cyan cluster.\n",
    "\n",
    "By analyzing these segments, the company can better understand their customer base"
   ]
  },
  {
   "cell_type": "code",
   "execution_count": null,
   "id": "9e80d98f",
   "metadata": {},
   "outputs": [],
   "source": []
  }
 ],
 "metadata": {
  "kernelspec": {
   "display_name": "Python 3 (ipykernel)",
   "language": "python",
   "name": "python3"
  },
  "language_info": {
   "codemirror_mode": {
    "name": "ipython",
    "version": 3
   },
   "file_extension": ".py",
   "mimetype": "text/x-python",
   "name": "python",
   "nbconvert_exporter": "python",
   "pygments_lexer": "ipython3",
   "version": "3.9.13"
  }
 },
 "nbformat": 4,
 "nbformat_minor": 5
}
